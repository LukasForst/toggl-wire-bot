{
 "cells": [
  {
   "cell_type": "code",
   "execution_count": 36,
   "metadata": {},
   "outputs": [],
   "source": [
    "from toggl.TogglPy import Toggl\n",
    "from dataclasses import dataclass\n",
    "from typing import List"
   ]
  },
  {
   "cell_type": "code",
   "execution_count": 103,
   "metadata": {},
   "outputs": [],
   "source": [
    "def convertMillis(millis):\n",
    "    \"\"\"\n",
    "    Takes milliseconds and returns triple seconds, minutes, hours\n",
    "    \"\"\"\n",
    "    seconds, milliseconds = divmod(millis,1000)\n",
    "    minutes, seconds = divmod(seconds, 60)\n",
    "    hours, minutes = divmod(minutes, 60)\n",
    "    seconds = seconds + milliseconds/1000\n",
    "    return hours, minutes, seconds"
   ]
  },
  {
   "cell_type": "code",
   "execution_count": 3,
   "metadata": {},
   "outputs": [],
   "source": [
    "token = \"<token>\"\n",
    "toggl = Toggl()\n",
    "toggl.setAPIKey(token)"
   ]
  },
  {
   "cell_type": "code",
   "execution_count": 1,
   "metadata": {},
   "outputs": [],
   "source": [
    "# toggl.getWorkspaces()"
   ]
  },
  {
   "cell_type": "code",
   "execution_count": 19,
   "metadata": {},
   "outputs": [],
   "source": [
    "defaultWsId = 4039412"
   ]
  },
  {
   "cell_type": "code",
   "execution_count": 96,
   "metadata": {},
   "outputs": [
    {
     "data": {
      "text/plain": [
       "{'total_grand': 128557000,\n",
       " 'total_billable': None,\n",
       " 'total_currencies': [{'currency': None, 'amount': None}],\n",
       " 'data': [{'id': 157769715,\n",
       "   'title': {'project': 'Other',\n",
       "    'client': None,\n",
       "    'color': '0',\n",
       "    'hex_color': '#a01aa5'},\n",
       "   'time': 2364000,\n",
       "   'total_currencies': [{'currency': None, 'amount': None}],\n",
       "   'items': [{'title': {'time_entry': 'finance stuff agreement with Pierrine'},\n",
       "     'time': 2364000,\n",
       "     'cur': None,\n",
       "     'sum': None,\n",
       "     'rate': None}]},\n",
       "  {'id': 157719994,\n",
       "   'title': {'project': 'Poll Bot',\n",
       "    'client': None,\n",
       "    'color': '0',\n",
       "    'hex_color': '#06aaf5'},\n",
       "   'time': 102272000,\n",
       "   'total_currencies': [{'currency': None, 'amount': None}],\n",
       "   'items': [{'title': {'time_entry': 'Automatic stats sending when all users voted'},\n",
       "     'time': 7958000,\n",
       "     'cur': None,\n",
       "     'sum': None,\n",
       "     'rate': None},\n",
       "    {'title': {'time_entry': 'Berlin, integration tests'},\n",
       "     'time': 50400000,\n",
       "     'cur': None,\n",
       "     'sum': None,\n",
       "     'rate': None},\n",
       "    {'title': {'time_entry': 'Database layer, Docker Compose setup'},\n",
       "     'time': 32400000,\n",
       "     'cur': None,\n",
       "     'sum': None,\n",
       "     'rate': None},\n",
       "    {'title': {'time_entry': 'fix logging'},\n",
       "     'time': 1778000,\n",
       "     'cur': None,\n",
       "     'sum': None,\n",
       "     'rate': None},\n",
       "    {'title': {'time_entry': 'user can  have only one vote'},\n",
       "     'time': 9736000,\n",
       "     'cur': None,\n",
       "     'sum': None,\n",
       "     'rate': None}]},\n",
       "  {'id': 157769671,\n",
       "   'title': {'project': 'Simulation Framework',\n",
       "    'client': None,\n",
       "    'color': '0',\n",
       "    'hex_color': '#000000'},\n",
       "   'time': 23921000,\n",
       "   'total_currencies': [{'currency': None, 'amount': None}],\n",
       "   'items': [{'title': {'time_entry': 'simulation framework - lithium onboarding'},\n",
       "     'time': 23921000,\n",
       "     'cur': None,\n",
       "     'sum': None,\n",
       "     'rate': None}]}]}"
      ]
     },
     "execution_count": 96,
     "metadata": {},
     "output_type": "execute_result"
    }
   ],
   "source": [
    "since = \"2020-03-01\"\n",
    "until = \"2020-03-29\"\n",
    "\n",
    "dataFilter = {\n",
    "    \"workspace_id\": defaultWsId,\n",
    "    \"since\": since,\n",
    "    \"until\": until\n",
    "}\n",
    "report = toggl.getSummaryReport(dataFilter)\n",
    "report"
   ]
  },
  {
   "cell_type": "code",
   "execution_count": 105,
   "metadata": {},
   "outputs": [],
   "source": [
    "totalWorkedInMillis = report['total_grand']"
   ]
  },
  {
   "cell_type": "code",
   "execution_count": 106,
   "metadata": {},
   "outputs": [],
   "source": [
    "def millisToText(millis: int) -> str:\n",
    "    hours, minutes, seconds = convertMillis(millis)\n",
    "    return f\"{hours} hours {minutes} minutes\""
   ]
  },
  {
   "cell_type": "code",
   "execution_count": 107,
   "metadata": {},
   "outputs": [],
   "source": [
    "@dataclass\n",
    "class Topic:\n",
    "    name: str\n",
    "    time: int\n",
    "    \n",
    "    def toString(self) -> str:\n",
    "        return f\"{self.name} - {millisToText(self.time)}\"\n",
    "\n",
    "@dataclass\n",
    "class Project:\n",
    "    name: str\n",
    "    time: int\n",
    "    topics: List[Topic]\n",
    "    \n",
    "    def toString(self) -> str:\n",
    "        topics = \"\\n\".join([f\"|____ {x.toString()}\\n\" for x in self.topics])\n",
    "        return f\"{self.name} - total time - {millisToText(self.time)}\\n{topics}\""
   ]
  },
  {
   "cell_type": "code",
   "execution_count": 108,
   "metadata": {},
   "outputs": [],
   "source": [
    "def getDataForTopic(topic) -> Topic:\n",
    "    name = topic['title']['time_entry']\n",
    "    time = topic['time']\n",
    "    return Topic(name, time)\n",
    "\n",
    "def getDataForProject(project) -> Project:\n",
    "    name = project['title']['project']\n",
    "    time = project['time']\n",
    "    topics = [getDataForTopic(x) for x in project['items']]\n",
    "    return Project(name, time, topics)"
   ]
  },
  {
   "cell_type": "code",
   "execution_count": 109,
   "metadata": {},
   "outputs": [],
   "source": [
    "projects = [getDataForProject(x) for x in report['data']]\n",
    "projectsStringReport = \"\\n\".join([x.toString() for x in projects])"
   ]
  },
  {
   "cell_type": "code",
   "execution_count": 110,
   "metadata": {},
   "outputs": [
    {
     "name": "stdout",
     "output_type": "stream",
     "text": [
      "Total time worked since 2020-03-01 until 2020-03-29: 35 hours 42 minutes\n",
      "Projects report:\n",
      "Other - total time - 0 hours 39 minutes\n",
      "|____ finance stuff agreement with Pierrine - 0 hours 39 minutes\n",
      "\n",
      "Poll Bot - total time - 28 hours 24 minutes\n",
      "|____ Automatic stats sending when all users voted - 2 hours 12 minutes\n",
      "\n",
      "|____ Berlin, integration tests - 14 hours 0 minutes\n",
      "\n",
      "|____ Database layer, Docker Compose setup - 9 hours 0 minutes\n",
      "\n",
      "|____ fix logging - 0 hours 29 minutes\n",
      "\n",
      "|____ user can  have only one vote - 2 hours 42 minutes\n",
      "\n",
      "Simulation Framework - total time - 6 hours 38 minutes\n",
      "|____ simulation framework - lithium onboarding - 6 hours 38 minutes\n",
      "\n"
     ]
    }
   ],
   "source": [
    "finalReport = f\"Total time worked since {since} until {until}: {millisToText(totalWorkedInMillis)}\\nProjects report:\\n{projectsStringReport}\"\n",
    "print(finalReport)"
   ]
  },
  {
   "cell_type": "code",
   "execution_count": null,
   "metadata": {},
   "outputs": [],
   "source": []
  }
 ],
 "metadata": {
  "kernelspec": {
   "display_name": "Python 3",
   "language": "python",
   "name": "python3"
  },
  "language_info": {
   "codemirror_mode": {
    "name": "ipython",
    "version": 3
   },
   "file_extension": ".py",
   "mimetype": "text/x-python",
   "name": "python",
   "nbconvert_exporter": "python",
   "pygments_lexer": "ipython3",
   "version": "3.7.4"
  }
 },
 "nbformat": 4,
 "nbformat_minor": 4
}
